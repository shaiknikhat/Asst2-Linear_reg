{
 "cells": [
  {
   "cell_type": "code",
   "execution_count": 25,
   "metadata": {},
   "outputs": [],
   "source": [
    "import numpy as np \n",
    "import tensorflow as tf \n",
    "import matplotlib.pyplot as plt "
   ]
  },
  {
   "cell_type": "code",
   "execution_count": 26,
   "metadata": {},
   "outputs": [],
   "source": [
    "np.random.seed(101) \n",
    "tf.set_random_seed(101) \n",
    "# Genrating random linear data \n",
    "# There will be 50 data points ranging from 0 to 50 \n",
    "x = np.linspace(0, 50, 50) \n",
    "# Adding noise to the random linear data \n",
    "x += np.random.uniform(-4, 4, 50)\n",
    "y=np.linspace(0,50,50)\n",
    "y+=np.random.normal(5,10,50)\n",
    "n = len(x) # Number of data points "
   ]
  },
  {
   "cell_type": "code",
   "execution_count": 27,
   "metadata": {},
   "outputs": [
    {
     "data": {
      "image/png": "[encoded data removed]",
      "text/plain": [
       "<Figure size 432x288 with 1 Axes>"
      ]
     },
     "metadata": {
      "needs_background": "light"
     },
     "output_type": "display_data"
    }
   ],
   "source": [
    "# Plot of Training Data \n",
    "plt.scatter(x, y) \n",
    "plt.xlabel('x') \n",
    "plt.ylabel('y') \n",
    "plt.title(\"Training Data\") \n",
    "plt.show() "
   ]
  },
  {
   "cell_type": "code",
   "execution_count": 28,
   "metadata": {},
   "outputs": [],
   "source": [
    "X = tf.placeholder(\"float\") \n",
    "Y = tf.placeholder(\"float\") \n",
    "W = tf.Variable(np.random.randn(), name = \"W\") \n",
    "b = tf.Variable(np.random.randn(), name = \"b\")\n",
    "learning_rate=0.01\n",
    "training_epochs=1000\n",
    "y_predict=tf.add(tf.multiply(X,W),b)\n",
    "cost=tf.reduce_sum(tf.pow((y_predict-Y),2))/(2*n)\n",
    "# Gradient Descent Optimizer \n",
    "optimizer = tf.train.GradientDescentOptimizer(learning_rate).minimize(cost) \n",
    "\n",
    "# Global Variables Initializer \n",
    "init = tf.global_variables_initializer() "
   ]
  },
  {
   "cell_type": "code",
   "execution_count": 29,
   "metadata": {},
   "outputs": [
    {
     "name": "stdout",
     "output_type": "stream",
     "text": [
      "Epoch 50 : cost = 70.52556 W = 1.2142156 b = 0.34935063\n",
      "Epoch 100 : cost = 69.21802 W = 1.1985573 b = 1.1149824\n",
      "Epoch 150 : cost = 68.21429 W = 1.1845715 b = 1.7988329\n",
      "Epoch 200 : cost = 67.44872 W = 1.1720796 b = 2.409637\n",
      "Epoch 250 : cost = 66.86941 W = 1.1609222 b = 2.955192\n",
      "Epoch 300 : cost = 66.43532 W = 1.1509565 b = 3.4424694\n",
      "Epoch 350 : cost = 66.1141 W = 1.1420555 b = 3.877697\n",
      "Epoch 400 : cost = 65.88021 W = 1.1341054 b = 4.2664194\n",
      "Epoch 450 : cost = 65.71364 W = 1.1270045 b = 4.6136317\n",
      "Epoch 500 : cost = 65.59861 W = 1.120662 b = 4.923754\n",
      "Epoch 550 : cost = 65.522804 W = 1.1149968 b = 5.200763\n",
      "Epoch 600 : cost = 65.47658 W = 1.1099367 b = 5.4481797\n",
      "Epoch 650 : cost = 65.45241 W = 1.105417 b = 5.669171\n",
      "Epoch 700 : cost = 65.44453 W = 1.1013808 b = 5.8665304\n",
      "Epoch 750 : cost = 65.44838 W = 1.0977756 b = 6.0428085\n",
      "Epoch 800 : cost = 65.46053 W = 1.0945556 b = 6.200254\n",
      "Epoch 850 : cost = 65.47832 W = 1.0916792 b = 6.3408957\n",
      "Epoch 900 : cost = 65.499756 W = 1.0891103 b = 6.466509\n",
      "Epoch 950 : cost = 65.52331 W = 1.0868158 b = 6.578698\n",
      "Epoch 1000 : cost = 65.54788 W = 1.0847663 b = 6.678915\n"
     ]
    }
   ],
   "source": [
    "with tf.Session() as sess: \n",
    "    sess.run(init) \n",
    "    # Iterating through all the epochs \n",
    "    for epoch in range(training_epochs): \n",
    "        # Feeding each data point into the optimizer using Feed Dictionary \n",
    "        for (_x, _y) in zip(x, y): \n",
    "            sess.run(optimizer, feed_dict = {X : _x, Y : _y}) \n",
    "        # Displaying the result after every 50 epochs \n",
    "        if (epoch + 1) % 50 == 0: \n",
    "            # Calculating the cost a every epoch \n",
    "            c = sess.run(cost, feed_dict = {X : x, Y : y}) \n",
    "            print(\"Epoch\", (epoch + 1), \": cost =\", c, \"W =\", sess.run(W), \"b =\", sess.run(b)) \n",
    "\n",
    "    # Storing necessary values to be used outside the Session \n",
    "    training_cost = sess.run(cost, feed_dict ={X: x, Y: y}) \n",
    "    weight = sess.run(W) \n",
    "    bias = sess.run(b) "
   ]
  },
  {
   "cell_type": "code",
   "execution_count": 30,
   "metadata": {},
   "outputs": [
    {
     "name": "stdout",
     "output_type": "stream",
     "text": [
      "Training cost = 65.54788 Weight = 1.0847663 bias = 6.678915 \n",
      "\n"
     ]
    }
   ],
   "source": [
    "# Calculating the predictions \n",
    "predictions = weight * x + bias \n",
    "print(\"Training cost =\", training_cost, \"Weight =\", weight, \"bias =\", bias, '\\n') "
   ]
  },
  {
   "cell_type": "code",
   "execution_count": 31,
   "metadata": {},
   "outputs": [
    {
     "data": {
      "image/png": "[encoded data removed]",
      "text/plain": [
       "<Figure size 432x288 with 1 Axes>"
      ]
     },
     "metadata": {
      "needs_background": "light"
     },
     "output_type": "display_data"
    }
   ],
   "source": [
    "# Plotting the Results \n",
    "plt.plot(x, y, 'ro', label ='Original data') \n",
    "plt.plot(x, predictions, label ='Fitted line') \n",
    "plt.title('Linear Regression Result') \n",
    "plt.legend() \n",
    "plt.show() "
   ]
  }
 ],
 "metadata": {
  "kernelspec": {
   "display_name": "Python 3",
   "language": "python",
   "name": "python3"
  },
  "language_info": {
   "codemirror_mode": {
    "name": "ipython",
    "version": 3
   },
   "file_extension": ".py",
   "mimetype": "text/x-python",
   "name": "python",
   "nbconvert_exporter": "python",
   "pygments_lexer": "ipython3",
   "version": "3.6.8"
  }
 },
 "nbformat": 4,
 "nbformat_minor": 2
}
